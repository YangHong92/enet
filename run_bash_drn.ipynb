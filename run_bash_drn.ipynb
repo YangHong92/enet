{
  "nbformat": 4,
  "nbformat_minor": 0,
  "metadata": {
    "colab": {
      "name": "run_bash_drn.ipynb",
      "version": "0.3.2",
      "provenance": [],
      "collapsed_sections": []
    },
    "kernelspec": {
      "name": "python3",
      "display_name": "Python 3"
    },
    "accelerator": "GPU"
  },
  "cells": [
    {
      "cell_type": "code",
      "metadata": {
        "id": "lWJDjCVVjXlp",
        "colab_type": "code",
        "outputId": "9c60844e-882c-4cd0-fe95-202f4a5f857f",
        "colab": {
          "base_uri": "https://localhost:8080/",
          "height": 122
        }
      },
      "source": [
        "# !apt-get install -y -qq software-properties-common python-software-properties module-init-tools\n",
        "# !add-apt-repository -y ppa:alessandro-strada/ppa 2>&1 > /dev/null\n",
        "# !apt-get update -qq 2>&1 > /dev/null\n",
        "# !apt-get -y install -qq google-drive-ocamlfuse fuse\n",
        "# from google.colab import auth\n",
        "# auth.authenticate_user()\n",
        "# from oauth2client.client import GoogleCredentials\n",
        "# creds = GoogleCredentials.get_application_default()\n",
        "# import getpass\n",
        "# !google-drive-ocamlfuse -headless -id={creds.client_id} -secret={creds.client_secret} < /dev/null 2>&1 | grep URL\n",
        "# vcode = getpass.getpass()\n",
        "# !echo {vcode} | google-drive-ocamlfuse -headless -id={creds.client_id} -secret={creds.client_secret}\n",
        "\n",
        "\n",
        "from google.colab import drive\n",
        "drive.mount('/content/gdrive', force_remount=True) # your google drive will be mounted as '/content/gdrive/My Drive/*'\n"
      ],
      "execution_count": 1,
      "outputs": [
        {
          "output_type": "stream",
          "text": [
            "Go to this URL in a browser: https://accounts.google.com/o/oauth2/auth?client_id=947318989803-6bn6qk8qdgf4n4g3pfee6491hc0brc4i.apps.googleusercontent.com&redirect_uri=urn%3Aietf%3Awg%3Aoauth%3A2.0%3Aoob&scope=email%20https%3A%2F%2Fwww.googleapis.com%2Fauth%2Fdocs.test%20https%3A%2F%2Fwww.googleapis.com%2Fauth%2Fdrive%20https%3A%2F%2Fwww.googleapis.com%2Fauth%2Fdrive.photos.readonly%20https%3A%2F%2Fwww.googleapis.com%2Fauth%2Fpeopleapi.readonly&response_type=code\n",
            "\n",
            "Enter your authorization code:\n",
            "··········\n",
            "Mounted at /content/gdrive\n"
          ],
          "name": "stdout"
        }
      ]
    },
    {
      "cell_type": "code",
      "metadata": {
        "id": "1aZPFbpvLn6N",
        "colab_type": "code",
        "colab": {}
      },
      "source": [
        "# !mkdir -p drive\n",
        "# !google-drive-ocamlfuse -o nonempty drive"
      ],
      "execution_count": 0,
      "outputs": []
    },
    {
      "cell_type": "code",
      "metadata": {
        "id": "Cp1owNzfMG4y",
        "colab_type": "code",
        "outputId": "65d1bdae-bf17-4b80-b730-85fd72a29e55",
        "colab": {
          "base_uri": "https://localhost:8080/",
          "height": 34
        }
      },
      "source": [
        "!ls"
      ],
      "execution_count": 2,
      "outputs": [
        {
          "output_type": "stream",
          "text": [
            "gdrive\tsample_data\n"
          ],
          "name": "stdout"
        }
      ]
    },
    {
      "cell_type": "code",
      "metadata": {
        "id": "_OFOqRyLLekA",
        "colab_type": "code",
        "colab": {
          "base_uri": "https://localhost:8080/",
          "height": 68
        },
        "outputId": "ae3d4532-f908-4042-a7ee-b1080cd796a0"
      },
      "source": [
        "import os\n",
        "os.chdir(\"/content/gdrive/My Drive/drn\")\n",
        "!ls"
      ],
      "execution_count": 5,
      "outputs": [
        {
          "output_type": "stream",
          "text": [
            "classify.py\t    doc     LICENSE\t requirements.txt\n",
            "datasets\t    drn.py  __pycache__  run_bash_drn.ipynb\n",
            "data_transforms.py  lib     README.md\t segment.py\n"
          ],
          "name": "stdout"
        }
      ]
    },
    {
      "cell_type": "code",
      "metadata": {
        "id": "iKWZeDHuLnfS",
        "colab_type": "code",
        "outputId": "d1a3c95d-077f-4b8a-83e4-42801272c3fe",
        "colab": {
          "base_uri": "https://localhost:8080/",
          "height": 34
        }
      },
      "source": [
        "#!/usr/bin/env python\n",
        "import subprocess\n",
        "\n",
        "!chmod +x ./create_lists.sh\n",
        "\n",
        "#call a bash script\n",
        "subprocess.call(['./create_lists.sh'])"
      ],
      "execution_count": 15,
      "outputs": [
        {
          "output_type": "execute_result",
          "data": {
            "text/plain": [
              "0"
            ]
          },
          "metadata": {
            "tags": []
          },
          "execution_count": 15
        }
      ]
    },
    {
      "cell_type": "code",
      "metadata": {
        "id": "69BSkkosMPpY",
        "colab_type": "code",
        "outputId": "7cb95880-7be3-4e2f-8977-582815bf6d56",
        "colab": {
          "base_uri": "https://localhost:8080/",
          "height": 1142
        }
      },
      "source": [
        "# Evaluating Cifar10 results\n",
        "# !python main.py --model msdnet -b 64 -j 2 cifar10 --msd-blocks 10 --msd-base 2 --msd-step 1 --msd-stepmode even --growth 6-12-24 --gpu 0 --msd-gcn --msd-gcn-kernel 5 --msd-share-weights --msd-all-gcn --debug --resume --evaluate-from all_shared_gcn_cifar10_b2_k5_s1.tar\n",
        "\n",
        "\n",
        "\n",
        "#category_number is the number of categories in segmentation. It is 19 for Cityscapes and 11 for Camvid. \n",
        "!python3 segment.py train -d 'datasets/camvid/' -c 11 -s 896 --arch drn_d_22 --batch-size 448 --epochs 250 --lr 0.01 --momentum 0.9 --step 100\n",
        "# python3 segment.py train -d 'datasets/camvid/' -c 11 -s 840 --arch drn_d_105 --batch-size 420 --epochs 250 --lr 0.01 --momentum 0.9 --step 100\n",
        "# !python3 segment.py train -d 'datasets/camvid/' -c 11 -s 896 --arch drn_d_22 --batch-size 32 --epochs 250 --lr 0.01 --momentum 0.9 --step 100\n",
        "\n",
        "# python3 segment.py train -d datasets/camvid -c 11 -s 840 --arch drn_d_105 --random-scale 2 --random-rotate 10 --batch-size 16 --epochs 500 --lr 0.01 --momentum 0.9 -j 16 --lr-mode poly --bn-sync\n",
        "python3 segment.py test -d datasets/camvid -c 19 --arch drn_d_22 --pretrained drn_d_22_cityscapes.pth --phase test --batch-size 1"
      ],
      "execution_count": 10,
      "outputs": [
        {
          "output_type": "stream",
          "text": [
            "segment.py train -d datasets/camvid/ -c 11 -s 896 --arch drn_d_22 --batch-size 112 --epochs 250 --lr 0.01 --momentum 0.9 --step 100\n",
            "Namespace(arch='drn_d_22', batch_size=112, bn_sync=False, classes=11, cmd='train', crop_size=896, data_dir='datasets/camvid/', epochs=250, evaluate=False, list_dir=None, load_rel=None, lr=0.01, lr_mode='step', momentum=0.9, ms=False, phase='val', pretrained='', random_rotate=0, random_scale=0, resume='', step=100, test_suffix='', weight_decay=0.0001, with_gt=False, workers=8)\n",
            "segment.py train -d datasets/camvid/ -c 11 -s 896 --arch drn_d_22 --batch-size 112 --epochs 250 --lr 0.01 --momentum 0.9 --step 100\n",
            "cmd : train\n",
            "data_dir : datasets/camvid/\n",
            "list_dir : None\n",
            "classes : 11\n",
            "crop_size : 896\n",
            "step : 100\n",
            "arch : drn_d_22\n",
            "batch_size : 112\n",
            "epochs : 250\n",
            "lr : 0.01\n",
            "lr_mode : step\n",
            "momentum : 0.9\n",
            "weight_decay : 0.0001\n",
            "evaluate : False\n",
            "resume : \n",
            "pretrained : \n",
            "workers : 8\n",
            "load_rel : None\n",
            "phase : val\n",
            "random_scale : 0\n",
            "random_rotate : 0\n",
            "bn_sync : False\n",
            "ms : False\n",
            "with_gt : False\n",
            "test_suffix : \n",
            "/usr/local/lib/python3.6/dist-packages/torch/nn/modules/loss.py:216: UserWarning: NLLLoss2d has been deprecated. Please use NLLLoss instead as a drop-in replacement and see https://pytorch.org/docs/master/nn.html#torch.nn.NLLLoss for more details.\n",
            "  warnings.warn(\"NLLLoss2d has been deprecated. \"\n",
            "[2019-05-11 18:08:05,813 segment.py:414 train_seg] Epoch: [0]\tlr 0.010000\n",
            "Traceback (most recent call last):\n",
            "  File \"segment.py\", line 743, in <module>\n",
            "    main()\n",
            "  File \"segment.py\", line 737, in main\n",
            "    train_seg(args)\n",
            "  File \"segment.py\", line 417, in train_seg\n",
            "    eval_score=accuracy)\n",
            "  File \"segment.py\", line 302, in train\n",
            "    output = model(input_var)[0]\n",
            "  File \"/usr/local/lib/python3.6/dist-packages/torch/nn/modules/module.py\", line 493, in __call__\n",
            "    result = self.forward(*input, **kwargs)\n",
            "  File \"/usr/local/lib/python3.6/dist-packages/torch/nn/parallel/data_parallel.py\", line 150, in forward\n",
            "    return self.module(*inputs[0], **kwargs[0])\n",
            "  File \"/usr/local/lib/python3.6/dist-packages/torch/nn/modules/module.py\", line 493, in __call__\n",
            "    result = self.forward(*input, **kwargs)\n",
            "  File \"segment.py\", line 110, in forward\n",
            "    x = self.base(x)\n",
            "  File \"/usr/local/lib/python3.6/dist-packages/torch/nn/modules/module.py\", line 493, in __call__\n",
            "    result = self.forward(*input, **kwargs)\n",
            "  File \"/usr/local/lib/python3.6/dist-packages/torch/nn/modules/container.py\", line 92, in forward\n",
            "    input = module(input)\n",
            "  File \"/usr/local/lib/python3.6/dist-packages/torch/nn/modules/module.py\", line 493, in __call__\n",
            "    result = self.forward(*input, **kwargs)\n",
            "  File \"/usr/local/lib/python3.6/dist-packages/torch/nn/modules/container.py\", line 92, in forward\n",
            "    input = module(input)\n",
            "  File \"/usr/local/lib/python3.6/dist-packages/torch/nn/modules/module.py\", line 493, in __call__\n",
            "    result = self.forward(*input, **kwargs)\n",
            "  File \"/usr/local/lib/python3.6/dist-packages/torch/nn/modules/batchnorm.py\", line 83, in forward\n",
            "    exponential_average_factor, self.eps)\n",
            "  File \"/usr/local/lib/python3.6/dist-packages/torch/nn/functional.py\", line 1697, in batch_norm\n",
            "    training, momentum, eps, torch.backends.cudnn.enabled\n",
            "  File \"/usr/local/lib/python3.6/dist-packages/torch/utils/data/_utils/signal_handling.py\", line 63, in handler\n",
            "    _error_if_any_worker_fails()\n",
            "RuntimeError: DataLoader worker (pid 1448) is killed by signal: Killed. \n"
          ],
          "name": "stdout"
        }
      ]
    },
    {
      "cell_type": "code",
      "metadata": {
        "id": "AvE_DJIXJ0az",
        "colab_type": "code",
        "colab": {}
      },
      "source": [
        ""
      ],
      "execution_count": 0,
      "outputs": []
    },
    {
      "cell_type": "code",
      "metadata": {
        "id": "JCGHiMeP8gDJ",
        "colab_type": "code",
        "colab": {}
      },
      "source": [
        ""
      ],
      "execution_count": 0,
      "outputs": []
    }
  ]
}